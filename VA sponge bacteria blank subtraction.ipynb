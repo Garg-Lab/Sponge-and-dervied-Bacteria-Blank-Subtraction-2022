{
 "cells": [
  {
   "cell_type": "code",
   "execution_count": 1,
   "metadata": {},
   "outputs": [],
   "source": [
    "import pandas as pd\n",
    "import numpy as np"
   ]
  },
  {
   "cell_type": "code",
   "execution_count": 2,
   "metadata": {},
   "outputs": [],
   "source": [
    "UnalteredFrame = pd.read_excel('input_VA_sponge_bacteria.xlsx')"
   ]
  },
  {
   "cell_type": "markdown",
   "metadata": {},
   "source": [
    "This takes the mean of the three columns in the unaltered Frame"
   ]
  },
  {
   "cell_type": "code",
   "execution_count": 3,
   "metadata": {},
   "outputs": [],
   "source": [
    "ControlsSOD = UnalteredFrame[['SOD_Blank_2', 'SOD_Blank_1']].apply(np.mean,axis=1)\n",
    "ControlsMeOH = UnalteredFrame[['MeOH_blank_t72', 'MeOH_blank_t28', 'MeOH_blank_t95','MeOH_blank_t63','MeOH_blank_t4','MeOH_blank_t37','MeOH_blank_t81','MeOH_blank_t141','MeOH_blank_t112','MeOH_blank_t89','MeOH_blank_t167','MeOH_blank_t103','MeOH_blank_t123','MeOH_blank_t175','MeOH_blank_t187','MeOH_blank_t186','MeOH_blank_t149','MeOH_blank_t132','MeOH_blank_t183','MeOH_blank_t179','MeOH_blank_t158', 'MeOH_blank_t182', 'MeOH_blank_t178', 'MeOH_blank_t54', 'MeOH_blank_t46', 'MeOH_blank_t7', 'MeOH_blank_t10', 'MeOH_blank_t19', 'MeOH_blank_t1']].apply(np.mean,axis=1)\n",
    "ControlsMB_media = UnalteredFrame[['MB_media_t2', 'MB_media_t3']].apply(np.mean,axis=1)\n",
    "ControlsTS_media = UnalteredFrame[['TS_media_t8', 'TS_media_t9']].apply(np.mean,axis=1)\n",
    "ControlsR2A_media = UnalteredFrame[['R2A_media_t5', 'R2A_media_t6']].apply(np.mean,axis=1)"
   ]
  },
  {
   "cell_type": "code",
   "execution_count": 4,
   "metadata": {},
   "outputs": [],
   "source": [
    "BlockSamples1 = UnalteredFrame[['22AD-AF-001_t20', '22AD-AF-002_t21', '22AD-AF-003_t22', '22AD-AF-004_t23', '22AD-AF-005_t24', '22AD-AF-006_t25', '22AD-AF-007_t26', '22AD-AF-008_t27', '22AV-AC-001_t142', '22AV-AC-002_t143', '22AV-AC-003_t144', '22AV-AC-005_t145', '22AV-AC-006_t146', '22AV-AC-007_t147', '22AV-AC-008_t148', '22EK-SA-001_t64', '22EK-SA-002_t65', '22EK-SA-003_t66', '22EK-SA-004_t67', '22EK-SA-005_t68', '22EK-SA-006_t69', '22EK-SA-007_t70', '22EK-SA-008_t71', '22JT-AC-001_t124', '22JT-AC-002_t125', '22JT-AC-003_t126', '22JT-AC-004_t127', '22JT-AC-005_t128', '22JT-AC-006_t129', '22JT-AC-007_t130', '22JT-AC-008_t131', '22PA-AF-001_t11', '22PA-AF-002_t12', '22PA-AF-003_t13', '22PA-AF-004_t14', '22PA-AF-005_t15', '22PA-AF-006_t16', '22PA-AF-007_t17', '22PA-AF-008_t18', '22VT-AC-001_t133', '22VT-AC-002_t134', '22VT-AC-003_t135', '22VT-AC-004_t136', '22VT-AC-005_t137', '22VT-AC-006_t138', '22VT-AC-007_t139', '22VT-AC-008_t140', '22VV-AC-001_t150', '22VV-AC-002_t151', '22VV-AC-003_t152', '22VV-AC-004_t153', '22VV-AC-005_t154', '22VV-AC-006_t155', '22VV-AC-007_t156', '22VV-AC-008_t157', '22ZK-SA-001_t73', '22ZK-SA-002_t74', '22ZK-SA-003_t75', '22ZK-SA-004_t76', '22ZK-SA-005_t77', '22ZK-SA-006_t78', '22ZK-SA-007_t79', '22ZK-SA-008_t80']].apply(np.mean,axis=1)\n",
    "BlockSamples2 = UnalteredFrame[['22AN-SA-001_t90', '22AN-SA-002_t91', '22AN-SA-003_t92', '22AN-SA-004_t93', '22AN-SA-005_t94', '22IDP-AF-001_t38', '22IDP-AF-002_t39', '22IDP-AF-003_t40', '22IDP-AF-004_t41', '22IDP-AF-005_t42', '22IDP-AF-006_t43', '22IDP-AF-007_t44', '22IDP-AF-008_t45', '22JM-SA-001_t82', '22JM-SA-002_t83', '22JM-SA-003_t84', '22JM-SA-004_t85', '22JM-SA-006_t86', '22JM-SA-007_t87', '22JM-SA-008_t88', '22SD-AF-001_t29', '22SD-AF-002_t30', '22SD-AF-003_t31', '22SD-AF-004_t32', '22SD-AF-005_t33', '22SD-AF-006_t34', '22SD-AF-007_t35', '22SD-AF-008_t36', '22VA-AC-001_t113', '22VA-AC-002_t114', '22VA-AC-003_t115', '22VA-AC-004_t116', '22VA-AC-005_t117', '22VA-AC-006_t118', '22VA-AC-007_t119', '22VA-AC-008_t120', '22VA-AC-009_t121', '22VA-AC-010_t122']].apply(np.mean,axis=1)\n",
    "BlockSamples3 = UnalteredFrame[['22BW-AC-001_t159', '22BW-AC-002_t160', '22BW-AC-003_t161', '22BW-AC-004_t162', '22BW-AC-005_t163', '22BW-AC-006_t164', '22BW-AC-007_t165', '22BW-AC-008_t166', '22CY-AC-001_t168', '22CY-AC-002_t169', '22CY-AC-003_t170', '22CY-AC-004_t171', '22CY-AC-006_t172', '22CY-AC-007_t173', '22CY-AC-008_t174', '22EG-AF-001_t55', '22EG-AF-002_t56', '22EG-AF-003_t57', '22EG-AF-004_t58', '22EG-AF-005_t59', '22EG-AF-006_t60', '22EG-AF-007_t61', '22EG-AF-008_t62', '22HF-AF-001_t47', '22HF-AF-002_t48', '22HF-AF-003_t49', '22HF-AF-004_t50', '22HF-AF-005_t51', '22HF-AF-007_t52', '22HF-AF-008_t53', '22SS-SA-001_t104', '22SS-SA-002_t105', '22SS-SA-003_t106', '22SS-SA-004_t107', '22SS-SA-005_t108', '22SS-SA-006_t109', '22SS-SA-007_t110', '22SS-SA-008_t111', '22TR-SA-001_t96', '22TR-SA-002_t97', '22TR-SA-004_t98', '22TR-SA-005_t99', '22TR-SA-006_t100', '22TR-SA-007_t101', '22TR-SA-008_t102']].apply(np.mean,axis=1)\n",
    "BlockSamples4 = UnalteredFrame[['SA_sponge_t181', 'SA_sponge_t180', 'AF_sponge_t176', 'AC_sponge_t185', 'AC_sponge_t184', 'AF_sponge_t177']].apply(np.mean,axis=1)"
   ]
  },
  {
   "cell_type": "markdown",
   "metadata": {},
   "source": [
    "This gives the names of the columns"
   ]
  },
  {
   "cell_type": "code",
   "execution_count": 5,
   "metadata": {},
   "outputs": [
    {
     "data": {
      "text/plain": [
       "Index(['row ID', 'row m/z', 'row retention time', '22AD-AF-003_t22',\n",
       "       '22AD-AF-008_t27', '22AD-AF-006_t25', '22AD-AF-001_t20',\n",
       "       '22AD-AF-002_t21', '22AD-AF-004_t23', '22AD-AF-005_t24',\n",
       "       ...\n",
       "       'SOD_Blank_1', 'MB_media_t2', 'MB_media_t3', 'R2A_media_t5',\n",
       "       'AF_sponge_t176', 'R2A_media_t6', 'TS_media_t8', 'TS_media_t9',\n",
       "       'SA_sponge_t181', 'SA_sponge_t180'],\n",
       "      dtype='object', length=192)"
      ]
     },
     "execution_count": 5,
     "metadata": {},
     "output_type": "execute_result"
    }
   ],
   "source": [
    "UnalteredFrame.columns"
   ]
  },
  {
   "cell_type": "markdown",
   "metadata": {},
   "source": [
    "This sets up the Filter Based on the LB Blank Columns"
   ]
  },
  {
   "cell_type": "code",
   "execution_count": 6,
   "metadata": {},
   "outputs": [],
   "source": [
    "TobeKeptBlockA = BlockSamples1 * .25 >= ControlsSOD"
   ]
  },
  {
   "cell_type": "code",
   "execution_count": 7,
   "metadata": {},
   "outputs": [],
   "source": [
    "TobeKeptBlockB = BlockSamples2 * .25 >= ControlsSOD"
   ]
  },
  {
   "cell_type": "code",
   "execution_count": 8,
   "metadata": {},
   "outputs": [],
   "source": [
    "TobeKeptBlockC = BlockSamples3 * .25 >= ControlsSOD"
   ]
  },
  {
   "cell_type": "code",
   "execution_count": 9,
   "metadata": {},
   "outputs": [],
   "source": [
    "TobeKeptBlockD = BlockSamples4 * .25 >= ControlsSOD"
   ]
  },
  {
   "cell_type": "code",
   "execution_count": 10,
   "metadata": {},
   "outputs": [],
   "source": [
    "ControlsSODSummary = TobeKeptBlockA & TobeKeptBlockB & TobeKeptBlockC & TobeKeptBlockD"
   ]
  },
  {
   "cell_type": "markdown",
   "metadata": {},
   "source": [
    "This sets up the Filter based on the Control Blanks Columns"
   ]
  },
  {
   "cell_type": "code",
   "execution_count": 11,
   "metadata": {},
   "outputs": [],
   "source": [
    "TobeKeptBlockE = BlockSamples1 * .25 >= ControlsMeOH"
   ]
  },
  {
   "cell_type": "code",
   "execution_count": 12,
   "metadata": {},
   "outputs": [],
   "source": [
    "TobeKeptBlockF = BlockSamples2 * .25 >= ControlsMeOH"
   ]
  },
  {
   "cell_type": "code",
   "execution_count": 13,
   "metadata": {},
   "outputs": [],
   "source": [
    "TobeKeptBlockG = BlockSamples3 * .25 >= ControlsMeOH"
   ]
  },
  {
   "cell_type": "code",
   "execution_count": 14,
   "metadata": {},
   "outputs": [],
   "source": [
    "TobeKeptBlockH = BlockSamples4 * .25 >= ControlsMeOH"
   ]
  },
  {
   "cell_type": "code",
   "execution_count": 15,
   "metadata": {},
   "outputs": [],
   "source": [
    "ControlsMeOHSummary = TobeKeptBlockE & TobeKeptBlockF & TobeKeptBlockG & TobeKeptBlockH"
   ]
  },
  {
   "cell_type": "code",
   "execution_count": 16,
   "metadata": {},
   "outputs": [],
   "source": [
    "TobeKeptBlockMB = BlockSamples1 * .25 >= ControlsMB_media"
   ]
  },
  {
   "cell_type": "code",
   "execution_count": 17,
   "metadata": {},
   "outputs": [],
   "source": [
    "TobeKeptBlockTS = BlockSamples2 * .25 >= ControlsTS_media"
   ]
  },
  {
   "cell_type": "code",
   "execution_count": 18,
   "metadata": {},
   "outputs": [],
   "source": [
    "TobeKeptBlockR2A = BlockSamples3 * .25 >= ControlsR2A_media"
   ]
  },
  {
   "cell_type": "code",
   "execution_count": 19,
   "metadata": {},
   "outputs": [],
   "source": [
    "ControlsMediaSummary = TobeKeptBlockMB & TobeKeptBlockTS & TobeKeptBlockR2A"
   ]
  },
  {
   "cell_type": "markdown",
   "metadata": {},
   "source": [
    "Combine the Filters Together Into a single Filter"
   ]
  },
  {
   "cell_type": "code",
   "execution_count": 20,
   "metadata": {},
   "outputs": [],
   "source": [
    "RetainFilter = ControlsSODSummary & ControlsMeOHSummary & ControlsMediaSummary"
   ]
  },
  {
   "cell_type": "markdown",
   "metadata": {},
   "source": [
    "We use the Regular Filter (Greater than 25%) The results are stored in altered Frame"
   ]
  },
  {
   "cell_type": "code",
   "execution_count": 21,
   "metadata": {},
   "outputs": [],
   "source": [
    "TrueFrame = UnalteredFrame"
   ]
  },
  {
   "cell_type": "code",
   "execution_count": 22,
   "metadata": {},
   "outputs": [],
   "source": [
    "TrueFrame['Retained'] = RetainFilter"
   ]
  },
  {
   "cell_type": "markdown",
   "metadata": {},
   "source": [
    "Altered Frame is saved as a csv with the name given"
   ]
  },
  {
   "cell_type": "code",
   "execution_count": 23,
   "metadata": {},
   "outputs": [],
   "source": [
    "TrueFrame.to_csv('VAspongebacteriaCHECK.csv')"
   ]
  },
  {
   "cell_type": "markdown",
   "metadata": {},
   "source": [
    "Keep Rows Marked True"
   ]
  },
  {
   "cell_type": "code",
   "execution_count": 24,
   "metadata": {},
   "outputs": [],
   "source": [
    "TrueFrame[RetainFilter].to_csv('VAspongebacteriaFILTERED.csv')"
   ]
  }
 ],
 "metadata": {
  "kernelspec": {
   "display_name": "Python 3 (ipykernel)",
   "language": "python",
   "name": "python3"
  },
  "language_info": {
   "codemirror_mode": {
    "name": "ipython",
    "version": 3
   },
   "file_extension": ".py",
   "mimetype": "text/x-python",
   "name": "python",
   "nbconvert_exporter": "python",
   "pygments_lexer": "ipython3",
   "version": "3.9.12"
  }
 },
 "nbformat": 4,
 "nbformat_minor": 2
}
